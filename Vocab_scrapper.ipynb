{
 "cells": [
  {
   "cell_type": "code",
   "execution_count": 253,
   "metadata": {
    "collapsed": true
   },
   "outputs": [],
   "source": [
    "import pandas as pd\n",
    "import numpy as np\n",
    "import urllib3 as ul\n",
    "from bs4 import BeautifulSoup\n",
    "import re\n",
    "\n",
    "mot='fournir'\n",
    "\n",
    "http = ul.PoolManager()"
   ]
  },
  {
   "cell_type": "code",
   "execution_count": 246,
   "metadata": {
    "collapsed": false
   },
   "outputs": [
    {
     "name": "stdout",
     "output_type": "stream",
     "text": [
      "\r\n",
      "\tDéfinitions : courir - Dictionnaire de français Larousse\r\n",
      "\n",
      "verbe intransitif\n",
      "['Se déplacer rapidement, en s\\'appuyant alternativement sur une jambe puis sur l\\'autre ou sur une patte puis sur l\\'autre: \"Le chien courait plus vite que nous.\"', 'Parcourir une distance en courant, au pas de course: \"Il a couru trois kilomètres.\"', 'Aller vite quelque part: \"Tout Paris court voir ce spectacle.\"', 'S\\'activer en se pressant; se dépêcher: \"J\\'ai couru toute la journée, je suis fatiguée.\"', 'Participer à une \"<a class=\"lienarticle\" href=\"/dictionnaires/francais/course/19940\">course</a>\"; faire de la course: \"Il court sur quelle voiture aux 24Heures du Mans?\"', 'En parlant de quelque chose, se déplacer rapidement dans un lieu, parcourir ce lieu rapidement: \"Ses doigts courent sur le clavier du piano.\"', '\"Littéraire. \"En parlant de lignes, de formes, s\\'étendre, être disposées dans un lieu, sur une surface de telle manière qu\\'une impression de mouvement est donnée; parcourir, sillonner: \"Routes qui courent dans la campagne.\"', 'En parlant de l\\'imagination, de la pensée, se développer, fonctionner librement; errer, vagabonder: \"Il laissait son imagination courir.\"', 'Se répandre, se propager dans le public: \"Le bruit court qu\\'il va démissionner.\"', 'En parlant d\\'un contrat, être en vigueur: \"Le bail court à partir du 1\"<sup>er</sup>\"janvier.\"', 'Aller tout droit à un état pénible, un échec, être proche de tomber dans cet état, de connaître cet échec: \"Vous courez à la faillite.\" \"Il court à sa perte.\"', '\"Marine\"<br/>\\n<ol class=\"SousDivision\">\\nEn parlant d\\'un bâtiment, marcher, faire route.\\nEn parlant de la côte, s\\'infléchir.</ol>']\n",
      "[\"Se déplacer rapidement, en s'appuyant alternativement sur une jambe puis sur l'autre ou sur une patte puis sur l'autre: Le chien courait plus vite que nous.\", 'Parcourir une distance en courant, au pas de course: Il a couru trois kilomètres.', 'Aller vite quelque part: Tout Paris court voir ce spectacle.', \"S'activer en se pressant; se dépêcher: J'ai couru toute la journée, je suis fatiguée.\", 'Participer à une course; faire de la course: Il court sur quelle voiture aux 24Heures du Mans?', 'En parlant de quelque chose, se déplacer rapidement dans un lieu, parcourir ce lieu rapidement: Ses doigts courent sur le clavier du piano.', \"Littéraire. En parlant de lignes, de formes, s'étendre, être disposées dans un lieu, sur une surface de telle manière qu'une impression de mouvement est donnée; parcourir, sillonner: Routes qui courent dans la campagne.\", \"En parlant de l'imagination, de la pensée, se développer, fonctionner librement; errer, vagabonder: Il laissait son imagination courir.\", \"Se répandre, se propager dans le public: Le bruit court qu'il va démissionner.\", \"En parlant d'un contrat, être en vigueur: Le bail court à partir du 1erjanvier.\", 'Aller tout droit à un état pénible, un échec, être proche de tomber dans cet état, de connaître cet échec: Vous courez à la faillite. Il court à sa perte.', \"Marine\\n\\nEn parlant d'un bâtiment, marcher, faire route.\\nEn parlant de la côte, s'infléchir.\"]\n"
     ]
    }
   ],
   "source": [
    "# Larrouse\n",
    "page = http.request('GET', 'http://www.larousse.fr/dictionnaires/francais/'+mot)\n",
    "\n",
    "soup = BeautifulSoup(page.data,\"lxml\")\n",
    "# print(soup.prettify)\n",
    "\n",
    "print(soup.title.string)\n",
    "# print(str(soup.find('p',class_=\"CatgramDefinition\"))) IN <a href is the link to the conjugaison! if it is a verb\n",
    "\n",
    "# type=re.sub('<a.*>','',re.sub('</?p.*?>','',str(soup.find('p',class_=\"CatgramDefinition\"))))\n",
    "larrouse_type=soup.find('p',class_=\"CatgramDefinition\").text\n",
    "if larrouse_type.split()[-1]=='Conjugaison':\n",
    "    larrouse_type=' '.join(larrouse_type.split()[0:-1])\n",
    "print(larrouse_type)\n",
    "\n",
    "# definition\n",
    "defs=soup.find_all('li',class_=\"DivisionDefinition\" )\n",
    "larousse_defs=[]\n",
    "larousse_defs2=[]\n",
    "for i,el in enumerate(defs):\n",
    "    larousse_defs2.append(re.sub(u'\\xa0',u'',el.text))\n",
    "    larousse_defs.append(re.sub(u'\\xa0',u'',re.sub(r'</?span.*?>','\"',re.sub(r'</?li.*?>','',str(el)))))\n",
    "#      print(str(i)+':',re.sub(r'</?span.*?>','\"',re.sub(r'</?li.*?>','',str(el))) )\n",
    "print(larousse_defs)\n",
    "print(larousse_defs2)"
   ]
  },
  {
   "cell_type": "code",
   "execution_count": 247,
   "metadata": {
    "collapsed": false
   },
   "outputs": [
    {
     "name": "stdout",
     "output_type": "stream",
     "text": [
      "Le Dictionnaire - Définition courir\n",
      "Verbe\n",
      "0 Se déplacer rapidement, avec impétuosité, par un mouvement alternatif des jambes ou des pattes, n’ayant pendant un court instant aucun appui au sol. \n",
      "1 (Par extension) Être en mouvement, en parlant des choses. \n",
      "2 Disputer une course. \n",
      "3 (Figuré) et (Familier) Définition manquante ou à compléter. (Ajouter) \n",
      "4 (Vieilli) Aller plus vite que le pas. \n",
      "5 Aller avec empressement. \n",
      "6 (Figuré) Aller, poursuivre (souvent dans un sens péjoratif). \n",
      "7 (Figuré) Faire trop vite.\n",
      "\n",
      "\n",
      "(En particulier) Lire, réciter, prononcer, écrire ou composer trop vite. \n"
     ]
    },
    {
     "data": {
      "text/plain": [
       "['Se déplacer rapidement, avec impétuosité, par un mouvement alternatif des jambes ou des pattes, n’ayant pendant un court instant aucun appui au sol. ',\n",
       " '(Par extension) Être en mouvement, en parlant des choses. ',\n",
       " 'Disputer une course. ',\n",
       " '(Figuré) et (Familier) Définition manquante ou à compléter. (Ajouter) ',\n",
       " '(Vieilli) Aller plus vite que le pas. ',\n",
       " 'Aller avec empressement. ',\n",
       " '(Figuré) Aller, poursuivre (souvent dans un sens péjoratif). ',\n",
       " '(Figuré) Faire trop vite.\\n\\n\\n(En particulier) Lire, réciter, prononcer, écrire ou composer trop vite. ']"
      ]
     },
     "execution_count": 247,
     "metadata": {},
     "output_type": "execute_result"
    }
   ],
   "source": [
    "# Le-dictionnaire\n",
    "\n",
    "page = http.request('GET', 'http://www.le-dictionnaire.com/definition.php?mot='+mot)\n",
    "soup = BeautifulSoup(page.data,\"lxml\")\n",
    "# print(soup.prettify)\n",
    "\n",
    "print(soup.title.string)\n",
    "\n",
    "defs=soup.find('div',class_=\"defbox\" )\n",
    "\n",
    "ledictionnaire_type=defs.find('span').text\n",
    "print(ledictionnaire_type) \n",
    "\n",
    "# definition\n",
    "ledictionnaire_defs=[]\n",
    "for i,d in enumerate(defs.find_all('li')):\n",
    "    ledictionnaire_defs.append(d.text[1:])\n",
    "    print(i,d.text[1:])\n",
    "\n",
    "ledictionnaire_defs"
   ]
  },
  {
   "cell_type": "code",
   "execution_count": 265,
   "metadata": {
    "collapsed": false
   },
   "outputs": [
    {
     "name": "stdout",
     "output_type": "stream",
     "text": [
      "fournir — Wiktionnaire\n",
      "\t 0 Mais, somme toute, les dirigeables n’étaient pas mieux fournis, en fait de cuirassement et d’armement, que la plus petite canonnière. — (H. G. Wells, La Guerre dans les airs, 1908, traduction d’Henry-D. Davray et B. Kozakiewicz, Mercure de France, Paris, 1910, p. 290 de l’éd. de 1921)\n",
      "\t 1 Toutes ces plantes appartiennent à la classe des cultures dites industrielles, parce qu'elles fournissent des produits qui servent de matières premières à l'industrie. — (Edmond Nivoit, Notions élémentaires sur l'industrie dans le département des Ardennes, Charleville : E. Jolly, 1869, p.101)\n",
      "\t 2 (Absolument) — Ce commerçant qui fournit dans cette maison. - Il se 'fournit' d’ordinaire chez ce marchand.\n",
      "\t 0 Pourquoi construire d'inconfortables maisons en planches et en tôle ondulée quand le feuillage des cocotiers peut vous fournir des abris toujours frais? — (Alain Gerbault, À la poursuite du soleil; tome 1 : De New-York à Tahiti, 1929)\n",
      "\t 1 Encore aujourd'hui, le diocèse de Rodez est, de tous, celui qui fournit le plus grand nombre de prêtres, le plus grand nombre de missionnaires. — (Ludovic Naudeau, La France se regarde : Le problème de la natalité, Librairie Hachette, Paris, 1931)\n",
      "\t 2 En effet, en dehors des tossafistes, qui illustrèrent le rabbinat français au XIIe et XIIIe siècle, la famille de Raschi a fourni au judaïsme maintes célébrités. — (Léon Berman, Histoire des Juifs de France des origines à nos jours, 1937)\n",
      "\t 3 Fournir de l’argent à quelqu’un. - Je fournirai les fonds nécessaires.\n",
      "\t 4 Il est juste de lui rendre ce qu’il a fourni pour vous.\n",
      "\t 5 L’huile que fournissent les graines de colza.\n",
      "\t 6 Cette école préparatoire est destinée à fournir des officiers, des professeurs, des administrateurs, etc.\n",
      "\t 7 Ce livre m’a fourni plusieurs citations, des idées, des renseignements.\n",
      "\t 0 Si vous avez de l’atout, vous devez en fournir.\n",
      "\t 0 Fournir ses défenses, ses griefs.\n",
      "\t 1 Il n’a pas fourni toutes les pièces du dossier.\n",
      "\t 2 J’en fournirai la preuve quand on le voudra.\n",
      "\t 0 Ce cheval a bien fourni la carrière.\n"
     ]
    },
    {
     "name": "stderr",
     "output_type": "stream",
     "text": [
      "C:\\Users\\carlo\\Anaconda3\\lib\\site-packages\\urllib3\\connectionpool.py:852: InsecureRequestWarning: Unverified HTTPS request is being made. Adding certificate verification is strongly advised. See: https://urllib3.readthedocs.io/en/latest/advanced-usage.html#ssl-warnings\n",
      "  InsecureRequestWarning)\n"
     ]
    }
   ],
   "source": [
    "# wiktionary\n",
    "page = http.request('GET', 'http://fr.wiktionary.org/wiki/'+mot)\n",
    "soup = BeautifulSoup(page.data,\"lxml\")\n",
    "# print(soup.prettify)\n",
    "\n",
    "print(soup.title.string)\n",
    "\n",
    "defs=soup.find('ol',class_='')\n",
    "\n",
    "for i,d in enumerate(defs.find_all('li')):\n",
    "    for j,di in enumerate(d.find_all('li')):\n",
    "        print('\\t',j,di.text)\n",
    "    "
   ]
  }
 ],
 "metadata": {
  "anaconda-cloud": {},
  "kernelspec": {
   "display_name": "Python [conda root]",
   "language": "python",
   "name": "conda-root-py"
  },
  "language_info": {
   "codemirror_mode": {
    "name": "ipython",
    "version": 3
   },
   "file_extension": ".py",
   "mimetype": "text/x-python",
   "name": "python",
   "nbconvert_exporter": "python",
   "pygments_lexer": "ipython3",
   "version": "3.5.2"
  }
 },
 "nbformat": 4,
 "nbformat_minor": 1
}
